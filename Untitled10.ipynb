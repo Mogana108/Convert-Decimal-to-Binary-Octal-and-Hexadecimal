{
  "nbformat": 4,
  "nbformat_minor": 0,
  "metadata": {
    "colab": {
      "name": "Untitled10.ipynb",
      "provenance": []
    },
    "kernelspec": {
      "name": "python3",
      "display_name": "Python 3"
    },
    "language_info": {
      "name": "python"
    }
  },
  "cells": [
    {
      "cell_type": "code",
      "execution_count": null,
      "metadata": {
        "id": "6dsjBy60X_I8"
      },
      "outputs": [],
      "source": [
        "# First, we will define the function to convert decimal to binary  \n",
        "def decimal_into_binary(decimal_1):  \n",
        "    decimal = int(decimal_1)  \n",
        "    \n",
        "    # then, print the equivalent decimal  \n",
        "    print (\"The given decimal number\", decimal, \"in Binary number is: \", bin(decimal))  \n",
        "# we will define the function to convert decimal to octal  \n",
        "def decimal_into_octal(decimal_1):  \n",
        "    decimal = int(decimal_1)  \n",
        "    \n",
        "    # Then, print the equivalent decimal  \n",
        "    print (\"The given decimal number\", decimal, \"in Octal number is: \", oct(decimal))  \n",
        "# we will define the function to convert decimal to hexadecimal  \n",
        "def decimal_into_hexadecimal(decimal_1):  \n",
        "    decimal = int(decimal_1)  \n",
        "    \n",
        "    # Then, print the equivalent decimal  \n",
        "    print (\"The given decimal number\", decimal, \" in Hexadecimal number is: \", hex(decimal))  \n",
        "    \n",
        "# Driver program  \n",
        "decimal_1 = int (input (\" Enter the Decimal Number: \"))  \n",
        "decimal_into_binary(decimal_1)  \n",
        "decimal_into_octal(decimal_1)  \n",
        "decimal_into_hexadecimal(decimal_1)  "
      ]
    }
  ]
}